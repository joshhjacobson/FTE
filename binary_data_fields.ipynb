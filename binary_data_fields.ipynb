{
 "cells": [
  {
   "cell_type": "code",
   "execution_count": 1,
   "metadata": {},
   "outputs": [],
   "source": [
    "import numpy as np\n",
    "from netCDF4 import Dataset\n",
    "\n",
    "import matplotlib.pyplot as plt\n",
    "import matplotlib.patches as patches\n",
    "import matplotlib.path as path\n",
    "from matplotlib import cm\n",
    "from mpl_toolkits.axes_grid1 import ImageGrid, make_axes_locatable"
   ]
  },
  {
   "cell_type": "code",
   "execution_count": null,
   "metadata": {},
   "outputs": [],
   "source": [
    "## Establish event date\n",
    "iday = 24\n",
    "imonth = 7\n",
    "iyear = 2004\n",
    "imem = 1"
   ]
  },
  {
   "cell_type": "code",
   "execution_count": null,
   "metadata": {},
   "outputs": [],
   "source": [
    "##  Load GEFS and downscaled data\n",
    "infile = '/Volumes/Passport/random-fields/data/gefs/original/refcstv2_precip_ccpav3_subset_066_to_072.nc'\n",
    "nc = Dataset(infile)\n",
    "yyyymmddhh_init = nc.variables['yyyymmddhh_init'][:]\n",
    "lons_anal = nc.variables['lons_anal'][:,:]\n",
    "lats_anal = nc.variables['lats_anal'][:,:]\n",
    "lons_fcst = nc.variables['lons_fcst'][4:-4,4:-4]\n",
    "lats_fcst = nc.variables['lats_fcst'][4:-4,4:-4]\n",
    "apcp_fcst_ens = nc.variables['apcp_fcst_ens'][:,:,4:-4,4:-4]\n",
    "apcp_anal = nc.variables['apcp_anal'][:,:,:]\n",
    "apcp_anal_upsc = nc.variables['apcp_anal_upsc'][:,4:-4,4:-4]\n",
    "nc.close()\n",
    "\n",
    "infile = f\"../data/GSDM_downscaled_0{imonth}_066_to_072.nc\"\n",
    "nc = Dataset(infile)\n",
    "fcst_dwnsc = nc.variables['downscaled'][iyear-2002,iday-1,:,:,:]\n",
    "nc.close()\n",
    "\n",
    "ndays, nens, nyf, nxf = apcp_fcst_ens.shape\n",
    "ndays, nya, nxa = apcp_anal.shape\n",
    "\n",
    "yyyymmddhh_verif_init = int(iyear*1e6+imonth*1e4+iday*1e2)\n",
    "iday_gefs = np.where(yyyymmddhh_init==yyyymmddhh_verif_init)[0][0]"
   ]
  },
  {
   "cell_type": "code",
   "execution_count": null,
   "metadata": {},
   "outputs": [],
   "source": [
    "## Set up colormap and coordinates for plotting\n",
    "BuPu = cm.get_cmap('BuPu',12)\n",
    "states_us = np.load('../data/states_us.npz', allow_pickle=True,)['polygons'].tolist()\n",
    "\n",
    "dxa = lons_anal[0,1]-lons_anal[0,0]\n",
    "dya = lats_anal[1,0]-lats_anal[0,0]\n",
    "extenta = [lons_anal[0,0]-dxa/2., lons_anal[0,-1]+dxa/2., lats_anal[0,0]-dya/2., lats_anal[-1,0]+dya/2.]\n",
    "\n",
    "dxf = lons_fcst[0,1]-lons_fcst[0,0]\n",
    "dyf = lats_fcst[1,0]-lats_fcst[0,0]\n",
    "extentf = [lons_fcst[0,0]-dxf/2., lons_fcst[0,-1]+dxf/2., lats_fcst[0,0]-dyf/2., lats_fcst[-1,0]+dxf/2.]"
   ]
  }
 ],
 "metadata": {
  "language_info": {
   "codemirror_mode": {
    "name": "ipython",
    "version": 3
   },
   "file_extension": ".py",
   "mimetype": "text/x-python",
   "name": "python",
   "nbconvert_exporter": "python",
   "pygments_lexer": "ipython3",
   "version": "3.7.3-final"
  },
  "orig_nbformat": 2,
  "kernelspec": {
   "name": "python37364bitbasecondae2fa4e95e7d440cea75a11011dfb7a9c",
   "display_name": "Python 3.7.3 64-bit ('base': conda)"
  }
 },
 "nbformat": 4,
 "nbformat_minor": 2
}